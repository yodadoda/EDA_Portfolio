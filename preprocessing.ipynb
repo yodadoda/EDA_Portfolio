{
 "cells": [
  {
   "cell_type": "code",
   "execution_count": 1,
   "id": "ac03d987",
   "metadata": {},
   "outputs": [],
   "source": [
    "import pandas as pd\n",
    "import numpy as np"
   ]
  },
  {
   "cell_type": "code",
   "execution_count": 2,
   "id": "9bca6fa5",
   "metadata": {},
   "outputs": [],
   "source": [
    "data = pd.read_csv('uncleaned_data/diabetic_data.csv')\n",
    "mapping = pd.read_csv('uncleaned_data/Full_ID_Mappings.csv')\n",
    "ICD9_mapping = pd.read_csv('uncleaned_data/ICD9_Encounter_Data.csv')"
   ]
  },
  {
   "cell_type": "code",
   "execution_count": 3,
   "id": "620592e5",
   "metadata": {},
   "outputs": [],
   "source": [
    "data.replace(\"?\", np.nan, inplace=True)"
   ]
  },
  {
   "cell_type": "code",
   "execution_count": 4,
   "id": "64b8ac51",
   "metadata": {},
   "outputs": [],
   "source": [
    "data['race'] = data['race'].fillna(data['race'].mode()[0])\n",
    "data['payer_code'] = data['payer_code'].fillna('unknown')\n",
    "data['medical_specialty'] = data['medical_specialty'].fillna('unknown')\n",
    "data['diag_1'] = data['diag_1'].fillna('unknown')\n",
    "data['diag_2'] = data['diag_2'].fillna('unknown')\n",
    "data['diag_3'] = data['diag_3'].fillna('unknown')\n",
    "data['max_glu_serum'] = data['max_glu_serum'].fillna('Not Taken')\n",
    "data['A1Cresult'] = data['A1Cresult'].fillna('Not Taken')\n",
    "\n",
    "data.drop(columns=['encounter_id', 'patient_nbr'], inplace = True)\n",
    "data.drop(columns=['weight'], inplace = True)"
   ]
  },
  {
   "cell_type": "code",
   "execution_count": null,
   "id": "949737db",
   "metadata": {},
   "outputs": [],
   "source": [
    "for column in data.columns:\n",
    "    dtype = data[column].apply(type).mode()[0]\n",
    "    data[column] = data[column].astype(dtype)"
   ]
  },
  {
   "cell_type": "code",
   "execution_count": 6,
   "id": "bb74e3ba",
   "metadata": {},
   "outputs": [],
   "source": [
    "data.to_csv('EDA_Data/cleaned_data.csv', index=False)"
   ]
  },
  {
   "cell_type": "code",
   "execution_count": 7,
   "id": "8515f86f",
   "metadata": {},
   "outputs": [],
   "source": [
    "target = data['readmitted']\n",
    "data.drop(columns=['readmitted'], inplace=True)"
   ]
  },
  {
   "cell_type": "code",
   "execution_count": 8,
   "id": "82a77970",
   "metadata": {},
   "outputs": [],
   "source": [
    "for col in data.columns:\n",
    "    if col in mapping['mapping_type'].unique():\n",
    "        \n",
    "        submap = (mapping\n",
    "                  .loc[mapping['mapping_type'] == col]\n",
    "                  .set_index('id')['description'])\n",
    "        \n",
    "        data[col] = data[col].map(submap)"
   ]
  },
  {
   "cell_type": "code",
   "execution_count": 9,
   "id": "82d5051a",
   "metadata": {},
   "outputs": [],
   "source": [
    "def diagnosis_entry(code):\n",
    "\n",
    "    s = str(code).strip()\n",
    "\n",
    "    try:\n",
    "        num = float(s)\n",
    "    except ValueError:\n",
    "        return \"Other\"\n",
    "    \n",
    "    if (390 <= num <= 459) or num == 785:\n",
    "        return \"Circulatory\"\n",
    "    elif (460 <= num <= 519) or num == 786:\n",
    "        return \"Respiratory\"\n",
    "    elif (520 <= num <= 579) or num == 787:\n",
    "        return \"Digestive\"\n",
    "    elif s.startswith(\"250\"):\n",
    "        return \"Diabetes\"\n",
    "    elif 800 <= num <= 999:\n",
    "        return \"Injury\"\n",
    "    elif 710 <= num <= 739:\n",
    "        return \"Musculoskeletal\"\n",
    "    elif (580 <= num <= 629) or num == 788:\n",
    "        return \"Genitourinary\"\n",
    "    elif 140 <= num <= 239:\n",
    "        return \"Neoplasms\"\n",
    "    else:\n",
    "        return \"Other\"\n",
    "\n",
    "diag_cols = ['diag_1', 'diag_2', 'diag_3']\n",
    "data[diag_cols] = data[diag_cols].map(diagnosis_entry)"
   ]
  },
  {
   "cell_type": "code",
   "execution_count": 10,
   "id": "8e171ff6",
   "metadata": {},
   "outputs": [],
   "source": [
    "data['admission_type_id'] = data['admission_type_id'].replace(np.nan, 'Unkonwn')\n",
    "data['admission_type_id'] = data['admission_type_id'].replace('Not Mapped', 'Unkonwn')\n",
    "data['admission_type_id'] = data['admission_type_id'].replace('Not Available', 'Unkonwn')\n",
    "\n",
    "data['discharge_disposition_id'] = data['discharge_disposition_id'].replace(np.nan, 'Unkonwn')\n",
    "data['discharge_disposition_id'] = data['discharge_disposition_id'].replace('Not Mapped', 'Unkonwn')\n",
    "\n",
    "data['admission_source_id'] = data['admission_source_id'].replace(np.nan, 'Unkonwn')\n",
    "data['admission_source_id'] = data['admission_source_id'].replace('Not Mapped', 'Unkonwn')\n",
    "data['admission_source_id'] = data['admission_source_id'].replace('Not Available', 'Unkonwn')"
   ]
  },
  {
   "cell_type": "code",
   "execution_count": 11,
   "id": "72e381c7",
   "metadata": {},
   "outputs": [],
   "source": [
    "# One-hot encoding for categorical variables from scratch\n",
    "\n",
    "cat_slice = data.select_dtypes(include=['object']).copy()\n",
    "orig_cols = cat_slice.columns.tolist()\n",
    "\n",
    "dummy_data = {}\n",
    "for col in orig_cols:\n",
    "    for val in cat_slice[col].unique():\n",
    "        safe_val = str(val).replace(' ', '_').replace('/', '_')\n",
    "        new_col = f\"{col}_{safe_val}\"\n",
    "        \n",
    "        dummy_data[new_col] = [1 if x == val else 0 for x in cat_slice[col]]\n",
    "\n",
    "dummy_df = pd.DataFrame(dummy_data, index=cat_slice.index)\n",
    "\n",
    "cat_slice.drop(columns=orig_cols, inplace=True)\n",
    "\n",
    "data = pd.concat(\n",
    "    [ data.drop(columns=orig_cols), \n",
    "      dummy_df ],\n",
    "    axis=1\n",
    ")"
   ]
  },
  {
   "cell_type": "code",
   "execution_count": 12,
   "id": "7edf13af",
   "metadata": {},
   "outputs": [],
   "source": [
    "data = pd.concat([data, target], axis=1)"
   ]
  },
  {
   "cell_type": "code",
   "execution_count": 13,
   "id": "3b0e3b9f",
   "metadata": {},
   "outputs": [],
   "source": [
    "n = 70000\n",
    "training_data = data.iloc[ : n].copy()\n",
    "testing_data = data.iloc[n : ].copy()"
   ]
  },
  {
   "cell_type": "code",
   "execution_count": 14,
   "id": "9e01e947",
   "metadata": {},
   "outputs": [],
   "source": [
    "training_data.to_csv('model_ready_data/training_data.csv', index=False)\n",
    "testing_data.to_csv('model_ready_data/testing_data.csv', index=False)"
   ]
  }
 ],
 "metadata": {
  "kernelspec": {
   "display_name": "Python 3",
   "language": "python",
   "name": "python3"
  },
  "language_info": {
   "codemirror_mode": {
    "name": "ipython",
    "version": 3
   },
   "file_extension": ".py",
   "mimetype": "text/x-python",
   "name": "python",
   "nbconvert_exporter": "python",
   "pygments_lexer": "ipython3",
   "version": "3.12.4"
  }
 },
 "nbformat": 4,
 "nbformat_minor": 5
}
