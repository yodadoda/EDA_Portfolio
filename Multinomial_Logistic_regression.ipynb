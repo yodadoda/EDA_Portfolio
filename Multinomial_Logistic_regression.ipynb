{
 "cells": [
  {
   "cell_type": "code",
   "execution_count": 1,
   "id": "f3317d84",
   "metadata": {},
   "outputs": [],
   "source": [
    "import pandas as pd\n",
    "import numpy as np\n",
    "\n",
    "# Load datasets\n",
    "training_df = pd.read_csv('model_ready_data/training_data.csv')\n",
    "testing_df  = pd.read_csv('model_ready_data/testing_data.csv')"
   ]
  },
  {
   "cell_type": "code",
   "execution_count": 2,
   "id": "64f10036",
   "metadata": {},
   "outputs": [],
   "source": [
    "_mapping = {'<30': 1, 'NO': 0, '>30': 2}\n",
    "training_df['readmitted'] = training_df['readmitted'].map(_mapping).astype(int)\n",
    "testing_df ['readmitted'] = testing_df ['readmitted'].map(_mapping).astype(int)"
   ]
  },
  {
   "cell_type": "code",
   "execution_count": 3,
   "id": "a3126c8c",
   "metadata": {},
   "outputs": [],
   "source": [
    "Y_train = training_df['readmitted'].values.astype(int)\n",
    "X_train = training_df.drop(columns=['readmitted']).values.astype(np.float64)\n",
    "\n",
    "Y_test = training_df['readmitted'].values.astype(int)\n",
    "X_test = training_df.drop(columns=['readmitted']).values.astype(np.float64)"
   ]
  },
  {
   "cell_type": "code",
   "execution_count": null,
   "id": "1716b2a6",
   "metadata": {},
   "outputs": [],
   "source": [
    "'''\n",
    "Activation function: \n",
    "    Softmax function\n",
    "\n",
    "Cost function:\n",
    "    1. Softmax cross entropy\n",
    "    2. Regularized Cross Entropy\n",
    "    3. Cost-Sensitive Cross Entropy\n",
    "    4. Lable Smoothing\n",
    "    5. Focal Loss\n",
    "    6. Squared Error Loss\n",
    "    7. Hinge-Type Losses\n",
    "    8. KL-Devergence\n",
    "\n",
    "Regularization:\n",
    "    L1 and L2 regularization\n",
    "'''"
   ]
  },
  {
   "cell_type": "code",
   "execution_count": 4,
   "id": "0b2e9ea2",
   "metadata": {},
   "outputs": [],
   "source": [
    "n_samples, n_features = X_train.shape\n",
    "n_classes = 3\n",
    "\n",
    "W = np.random.rand(n_features, n_classes) * 0.01\n",
    "b = np.zeros(n_classes)"
   ]
  },
  {
   "cell_type": "code",
   "execution_count": 5,
   "id": "1498bcf2",
   "metadata": {},
   "outputs": [],
   "source": [
    "def get_logits():\n",
    "    logits = X_train.dot(W) + b\n",
    "    return logits"
   ]
  },
  {
   "cell_type": "code",
   "execution_count": 6,
   "id": "b9b2f9bf",
   "metadata": {},
   "outputs": [],
   "source": [
    "# Softmax function\n",
    "def softmax(Z: np.array) -> np.ndarray:\n",
    "    \n",
    "    Z_shift = Z - np.max(Z, axis=1, keepdims=True)\n",
    "    exp_Z = np.exp(Z_shift)\n",
    "    probability = exp_Z / np.sum(exp_Z, axis=1, keepdims=True)\n",
    "    \n",
    "    return probability\n",
    "\n",
    "probs = softmax(get_logits())"
   ]
  },
  {
   "cell_type": "code",
   "execution_count": 7,
   "id": "2e407e7e",
   "metadata": {},
   "outputs": [
    {
     "name": "stdout",
     "output_type": "stream",
     "text": [
      "1.0752219843282436\n"
     ]
    }
   ],
   "source": [
    "# Softmax Cross entropy\n",
    "def cross_entropy(logits: np.ndarray, Y_train: np.ndarray) -> float:\n",
    "    eps = 1e-15\n",
    "    probs = softmax(logits)\n",
    "\n",
    "    N = logits.shape[0]\n",
    "    correct_class_probs = probs[np.arange(N), Y_train]\n",
    "\n",
    "    log_likelihoods = -np.log(correct_class_probs + eps)\n",
    "    loss = np.sum(log_likelihoods) / N\n",
    "\n",
    "    return loss\n",
    "\n",
    "loss = cross_entropy(get_logits(), Y_train)\n",
    "print(loss)"
   ]
  },
  {
   "cell_type": "code",
   "execution_count": null,
   "id": "6a4cb410",
   "metadata": {},
   "outputs": [],
   "source": [
    "# Regularized Cross Entropy\n",
    "def reg_cross_entropy(logits: np.ndarray, \n",
    "                      Y_train: np.ndarray,\n",
    "                      W: np.ndarray,) -> float:\n",
    "    \n",
    "    cross_entropy = cross_entropy(get_logits(), Y_train)\n",
    "    return"
   ]
  },
  {
   "cell_type": "code",
   "execution_count": null,
   "id": "a3d3d852",
   "metadata": {},
   "outputs": [],
   "source": [
    "# L1 regularization\n",
    "def L1_regularization(logits: np.ndarray, lambda_reg: float, )"
   ]
  },
  {
   "cell_type": "code",
   "execution_count": null,
   "id": "8d0d0631",
   "metadata": {},
   "outputs": [],
   "source": [
    "# L2 regularization\n"
   ]
  }
 ],
 "metadata": {
  "kernelspec": {
   "display_name": "Python 3",
   "language": "python",
   "name": "python3"
  },
  "language_info": {
   "codemirror_mode": {
    "name": "ipython",
    "version": 3
   },
   "file_extension": ".py",
   "mimetype": "text/x-python",
   "name": "python",
   "nbconvert_exporter": "python",
   "pygments_lexer": "ipython3",
   "version": "3.12.4"
  }
 },
 "nbformat": 4,
 "nbformat_minor": 5
}
