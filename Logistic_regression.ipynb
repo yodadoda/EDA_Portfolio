{
 "cells": [
  {
   "cell_type": "code",
   "execution_count": 1,
   "id": "4cd22afc",
   "metadata": {},
   "outputs": [],
   "source": [
    "import pandas as pd\n",
    "import numpy as np\n",
    "\n",
    "# Load datasets\n",
    "training_df = pd.read_csv('model_ready_data/training_data.csv')\n",
    "testing_df  = pd.read_csv('model_ready_data/testing_data.csv')"
   ]
  },
  {
   "cell_type": "code",
   "execution_count": 2,
   "id": "4eeb6495",
   "metadata": {},
   "outputs": [],
   "source": [
    "_mapping = {'<30': 1, 'NO': 0, '>30': 0}\n",
    "training_df['readmitted'] = training_df['readmitted'].map(_mapping).astype(int)\n",
    "testing_df ['readmitted'] = testing_df ['readmitted'].map(_mapping).astype(int)"
   ]
  },
  {
   "cell_type": "code",
   "execution_count": 3,
   "id": "05911b4b",
   "metadata": {},
   "outputs": [],
   "source": [
    "# Training split\n",
    "y_train = training_df['readmitted'].values.astype(np.float64)\n",
    "X_train = training_df.drop(columns=['readmitted']).values.astype(np.float64)\n",
    "\n",
    "# Test split\n",
    "y_test  = testing_df ['readmitted'].values.astype(np.float64)\n",
    "X_test  = testing_df .drop(columns=['readmitted']).values.astype(np.float64)"
   ]
  },
  {
   "cell_type": "code",
   "execution_count": 4,
   "id": "a0954f23",
   "metadata": {},
   "outputs": [],
   "source": [
    "# Standardize: zero mean, unit variance\n",
    "means = X_train.mean(axis=0)\n",
    "stds  = X_train.std(axis=0)\n",
    "stds[stds == 0] = 1.0    # avoid division by zero if any feature is constant\n",
    "\n",
    "X_train = (X_train - means) / stds\n",
    "X_test  = (X_test  - means) / stds"
   ]
  },
  {
   "cell_type": "code",
   "execution_count": 5,
   "id": "7bbc9ea4",
   "metadata": {},
   "outputs": [
    {
     "name": "stdout",
     "output_type": "stream",
     "text": [
      "After oversampling: [62055 62055]\n",
      "After undersampling: [7945 7945]\n"
     ]
    }
   ],
   "source": [
    "# 5) Balance the training set\n",
    "\n",
    "# (a) Re-create a DataFrame so we can sample by class\n",
    "try:\n",
    "    feature_names\n",
    "except NameError:\n",
    "    feature_names = [f\"f{i}\" for i in range(X_train.shape[1])]\n",
    "\n",
    "train_df = pd.DataFrame(X_train, columns=feature_names)\n",
    "train_df['readmitted'] = y_train\n",
    "\n",
    "# Separate majority/minority\n",
    "minority = train_df[train_df.readmitted == 1]\n",
    "majority = train_df[train_df.readmitted == 0]\n",
    "\n",
    "# —— Random Oversampling —— \n",
    "minority_os = minority.sample(n=len(majority),\n",
    "                              replace=True,\n",
    "                              random_state=42)\n",
    "oversampled_df = pd.concat([majority, minority_os]).sample(frac=1,\n",
    "                                                           random_state=42)\n",
    "\n",
    "X_train_over = oversampled_df.drop('readmitted', axis=1).values\n",
    "y_train_over = oversampled_df['readmitted'].values\n",
    "\n",
    "print(\"After oversampling:\", np.bincount(y_train_over.astype(int)))\n",
    "\n",
    "# —— Random Undersampling —— \n",
    "majority_us = majority.sample(n=len(minority),\n",
    "                              replace=False,\n",
    "                              random_state=42)\n",
    "undersampled_df = pd.concat([minority, majority_us]).sample(frac=1,\n",
    "                                                            random_state=42)\n",
    "\n",
    "X_train_under = undersampled_df.drop('readmitted', axis=1).values\n",
    "y_train_under = undersampled_df['readmitted'].values\n",
    "\n",
    "print(\"After undersampling:\", np.bincount(y_train_under.astype(int)))"
   ]
  },
  {
   "cell_type": "code",
   "execution_count": 6,
   "id": "90fb0521",
   "metadata": {},
   "outputs": [],
   "source": [
    "n_features    = X_train.shape[1]\n",
    "weights       = np.zeros(n_features)\n",
    "bias          = 0.0\n",
    "learning_rate = 0.01"
   ]
  },
  {
   "cell_type": "code",
   "execution_count": 7,
   "id": "6742ab47",
   "metadata": {},
   "outputs": [],
   "source": [
    "def sigmoid(z):\n",
    "    \"\"\"\n",
    "    Compute sigmoid in a numerically stable way.\n",
    "    \"\"\"\n",
    "    z = np.array(z, dtype=np.float64)\n",
    "    out = np.empty_like(z)\n",
    "    pos = z >= 0\n",
    "    out[pos] = 1.0 / (1.0 + np.exp(-z[pos]))\n",
    "    neg = ~pos\n",
    "    exp_z = np.exp(z[neg])\n",
    "    out[neg] = exp_z / (1.0 + exp_z)\n",
    "    return out"
   ]
  },
  {
   "cell_type": "code",
   "execution_count": 8,
   "id": "a557c0db",
   "metadata": {},
   "outputs": [],
   "source": [
    "def compute_cost(y, y_pred):\n",
    "    \"\"\"\n",
    "    Binary cross-entropy loss with clipping to avoid log(0).\n",
    "    \"\"\"\n",
    "    eps = 1e-9\n",
    "    y_pred = np.clip(y_pred, eps, 1 - eps)\n",
    "    return -np.mean(y * np.log(y_pred) + (1 - y) * np.log(1 - y_pred))"
   ]
  },
  {
   "cell_type": "code",
   "execution_count": 9,
   "id": "883305c4",
   "metadata": {},
   "outputs": [],
   "source": [
    "def gradient_descent(X, y, weights, bias, lr, num_iters):\n",
    "    \"\"\"\n",
    "    Batch gradient descent for logistic regression.\n",
    "    Prints cost at iteration 1 and then 4 more evenly spaced times.\n",
    "    \"\"\"\n",
    "    m = len(y)\n",
    "    for i in range(1, num_iters + 1):\n",
    "        # Forward pass\n",
    "        z      = X.dot(weights) + bias\n",
    "        y_pred = sigmoid(z)\n",
    "        # Gradients\n",
    "        dz = y_pred - y\n",
    "        dw = (X.T.dot(dz)) / m\n",
    "        db = dz.sum() / m\n",
    "        # Parameter update\n",
    "        weights -= lr * dw\n",
    "        bias    -= lr * db\n",
    "        # Monitor cost\n",
    "        if i == 1 or i % (num_iters // 5) == 0:\n",
    "            cost = compute_cost(y, y_pred)\n",
    "            print(f\"Iteration {i}/{num_iters}, Cost: {cost:.6f}\")\n",
    "    return weights, bias"
   ]
  },
  {
   "cell_type": "code",
   "execution_count": 10,
   "id": "2a070aba",
   "metadata": {},
   "outputs": [
    {
     "name": "stdout",
     "output_type": "stream",
     "text": [
      "Training on ORIGINAL data:\n",
      "Iteration 1/5000, Cost: 0.693147\n",
      "Iteration 1000/5000, Cost: 0.350178\n",
      "Iteration 2000/5000, Cost: 0.334408\n",
      "Iteration 3000/5000, Cost: 0.331956\n",
      "Iteration 4000/5000, Cost: 0.331331\n",
      "Iteration 5000/5000, Cost: 0.331101\n",
      "\n",
      "Training on OVERSAMPLED data:\n",
      "Iteration 1/10000, Cost: 0.693147\n",
      "Iteration 2000/10000, Cost: 0.635277\n",
      "Iteration 4000/10000, Cost: 0.634594\n",
      "Iteration 6000/10000, Cost: 0.634388\n",
      "Iteration 8000/10000, Cost: 0.634290\n",
      "Iteration 10000/10000, Cost: 0.634232\n",
      "\n",
      "Training on UNDERSAMPLED data:\n",
      "Iteration 1/10000, Cost: 0.693147\n",
      "Iteration 2000/10000, Cost: 0.634142\n",
      "Iteration 4000/10000, Cost: 0.633439\n",
      "Iteration 6000/10000, Cost: 0.633223\n",
      "Iteration 8000/10000, Cost: 0.633120\n",
      "Iteration 10000/10000, Cost: 0.633060\n"
     ]
    }
   ],
   "source": [
    "# 9a) Train on original data\n",
    "print(\"Training on ORIGINAL data:\")\n",
    "w_orig, b_orig = gradient_descent(X_train, y_train,\n",
    "                                  np.zeros_like(weights), 0.0,\n",
    "                                  learning_rate, num_iters=5000)\n",
    "\n",
    "# 9b) Train on OVERSAMPLED data\n",
    "print(\"\\nTraining on OVERSAMPLED data:\")\n",
    "w_os, b_os = gradient_descent(X_train_over, y_train_over,\n",
    "                              np.zeros_like(weights), 0.0,\n",
    "                              learning_rate, num_iters=10000)\n",
    "\n",
    "# 9c) Train on UNDERSAMPLED data\n",
    "print(\"\\nTraining on UNDERSAMPLED data:\")\n",
    "w_us, b_us = gradient_descent(X_train_under, y_train_under,\n",
    "                              np.zeros_like(weights), 0.0,\n",
    "                              learning_rate, num_iters=10000)"
   ]
  },
  {
   "cell_type": "code",
   "execution_count": 11,
   "id": "036a9536",
   "metadata": {},
   "outputs": [
    {
     "name": "stdout",
     "output_type": "stream",
     "text": [
      "\n",
      "=== EVALUATION ===\n",
      "Orig Train   → Acc: 0.886, Cost: 0.331101\n",
      "Orig  Test   → Acc: 0.892, Cost: 0.326023\n",
      "Over Train   → Acc: 0.636, Cost: 0.634232\n",
      "Over  Test   → Acc: 0.628, Cost: 0.672468\n",
      "Under Train  → Acc: 0.636, Cost: 0.633060\n",
      "Under Test   → Acc: 0.620, Cost: 0.679134\n"
     ]
    }
   ],
   "source": [
    "# Evaluate on training set\n",
    "train_prob = sigmoid(X_train.dot(weights) + bias)\n",
    "train_pred = (train_prob >= 0.5).astype(int)\n",
    "train_acc  = (train_pred == y_train).mean()\n",
    "train_cost = compute_cost(y_train, train_prob)\n",
    "\n",
    "# Evaluate on test set\n",
    "test_prob  = sigmoid(X_test.dot(weights) + bias)\n",
    "test_pred  = (test_prob >= 0.5).astype(int)\n",
    "test_acc   = (test_pred == y_test).mean()\n",
    "test_cost  = compute_cost(y_test, test_prob)\n",
    "\n",
    "def evaluate(X, y, weights, bias, label):\n",
    "    prob = sigmoid(X.dot(weights) + bias)\n",
    "    pred = (prob >= 0.5).astype(int)\n",
    "    acc  = (pred == y).mean()\n",
    "    cost = compute_cost(y, prob)\n",
    "    print(f\"{label:12s} → Acc: {acc:.3f}, Cost: {cost:.6f}\")\n",
    "\n",
    "print(\"\\n=== EVALUATION ===\")\n",
    "evaluate(X_train,      y_train,w_orig, b_orig, \"Orig Train\")\n",
    "evaluate(X_test,       y_test,w_orig, b_orig, \"Orig  Test\")\n",
    "evaluate(X_train_over, y_train_over, w_os,b_os,   \"Over Train\")\n",
    "evaluate(X_test,       y_test,       w_os,   b_os,   \"Over  Test\")\n",
    "evaluate(X_train_under,y_train_under,w_us,   b_us,   \"Under Train\")\n",
    "evaluate(X_test,       y_test,       w_us,   b_us,   \"Under Test\")"
   ]
  }
 ],
 "metadata": {
  "kernelspec": {
   "display_name": "Python 3",
   "language": "python",
   "name": "python3"
  },
  "language_info": {
   "codemirror_mode": {
    "name": "ipython",
    "version": 3
   },
   "file_extension": ".py",
   "mimetype": "text/x-python",
   "name": "python",
   "nbconvert_exporter": "python",
   "pygments_lexer": "ipython3",
   "version": "3.12.4"
  }
 },
 "nbformat": 4,
 "nbformat_minor": 5
}
